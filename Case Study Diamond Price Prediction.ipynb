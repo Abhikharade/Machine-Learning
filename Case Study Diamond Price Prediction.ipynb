{
 "cells": [
  {
   "cell_type": "markdown",
   "id": "e27ad00f",
   "metadata": {},
   "source": [
    "# Diamond Price Prediction "
   ]
  },
  {
   "cell_type": "markdown",
   "id": "a0a00478",
   "metadata": {},
   "source": [
    "# Attribute Information"
   ]
  },
  {
   "cell_type": "markdown",
   "id": "71ef00d4",
   "metadata": {},
   "source": [
    "    Price : is in US dollars\n",
    "    Carat : weight of the diamond\n",
    "    Cut : quality of the cut (Fair, Good, Very Good, Premium, Ideal)\n",
    "    color : diamond colour, from J (worst) to D (best)\n",
    "    clarity : a measurement of how clear the diamond is (I1 (worst), SI2, SI1, VS2, VS1, VVS2, VVS1, IF (best))\n",
    "    x : length in mm\n",
    "    y : width in mm\n",
    "    z : depth in mm\n",
    "    depth: The height of a diamond\n",
    "    table: The width of the diamond’s table expressed as a percentage of its average diameter"
   ]
  },
  {
   "cell_type": "markdown",
   "id": "40090428",
   "metadata": {},
   "source": [
    "# Data Importing"
   ]
  },
  {
   "cell_type": "code",
   "execution_count": 3,
   "id": "a146f3bc",
   "metadata": {},
   "outputs": [],
   "source": [
    "import pandas as pd                #Data manipulation\n",
    "import numpy as np                 #linear algebra\n",
    "import seaborn as sns              #Data visualization\n",
    "import matplotlib.pyplot as plt    #Data visualization\n",
    "%matplotlib inline\n",
    "import warnings                          # Hiding Warnings\n",
    "warnings.filterwarnings('ignore')"
   ]
  },
  {
   "cell_type": "code",
   "execution_count": 4,
   "id": "0fd0089e",
   "metadata": {},
   "outputs": [
    {
     "data": {
      "text/html": [
       "<div>\n",
       "<style scoped>\n",
       "    .dataframe tbody tr th:only-of-type {\n",
       "        vertical-align: middle;\n",
       "    }\n",
       "\n",
       "    .dataframe tbody tr th {\n",
       "        vertical-align: top;\n",
       "    }\n",
       "\n",
       "    .dataframe thead th {\n",
       "        text-align: right;\n",
       "    }\n",
       "</style>\n",
       "<table border=\"1\" class=\"dataframe\">\n",
       "  <thead>\n",
       "    <tr style=\"text-align: right;\">\n",
       "      <th></th>\n",
       "      <th>Unnamed: 0</th>\n",
       "      <th>carat</th>\n",
       "      <th>cut</th>\n",
       "      <th>color</th>\n",
       "      <th>clarity</th>\n",
       "      <th>depth</th>\n",
       "      <th>table</th>\n",
       "      <th>x</th>\n",
       "      <th>y</th>\n",
       "      <th>z</th>\n",
       "      <th>price</th>\n",
       "    </tr>\n",
       "  </thead>\n",
       "  <tbody>\n",
       "    <tr>\n",
       "      <th>0</th>\n",
       "      <td>1</td>\n",
       "      <td>0.23</td>\n",
       "      <td>Ideal</td>\n",
       "      <td>E</td>\n",
       "      <td>SI2</td>\n",
       "      <td>61.5</td>\n",
       "      <td>55.0</td>\n",
       "      <td>3.95</td>\n",
       "      <td>3.98</td>\n",
       "      <td>2.43</td>\n",
       "      <td>326</td>\n",
       "    </tr>\n",
       "    <tr>\n",
       "      <th>1</th>\n",
       "      <td>2</td>\n",
       "      <td>0.21</td>\n",
       "      <td>Premium</td>\n",
       "      <td>E</td>\n",
       "      <td>SI1</td>\n",
       "      <td>59.8</td>\n",
       "      <td>61.0</td>\n",
       "      <td>3.89</td>\n",
       "      <td>3.84</td>\n",
       "      <td>2.31</td>\n",
       "      <td>326</td>\n",
       "    </tr>\n",
       "    <tr>\n",
       "      <th>2</th>\n",
       "      <td>3</td>\n",
       "      <td>0.23</td>\n",
       "      <td>Good</td>\n",
       "      <td>E</td>\n",
       "      <td>VS1</td>\n",
       "      <td>56.9</td>\n",
       "      <td>65.0</td>\n",
       "      <td>4.05</td>\n",
       "      <td>4.07</td>\n",
       "      <td>2.31</td>\n",
       "      <td>327</td>\n",
       "    </tr>\n",
       "    <tr>\n",
       "      <th>3</th>\n",
       "      <td>4</td>\n",
       "      <td>0.29</td>\n",
       "      <td>Premium</td>\n",
       "      <td>I</td>\n",
       "      <td>VS2</td>\n",
       "      <td>62.4</td>\n",
       "      <td>58.0</td>\n",
       "      <td>4.20</td>\n",
       "      <td>4.23</td>\n",
       "      <td>2.63</td>\n",
       "      <td>334</td>\n",
       "    </tr>\n",
       "    <tr>\n",
       "      <th>4</th>\n",
       "      <td>5</td>\n",
       "      <td>0.31</td>\n",
       "      <td>Good</td>\n",
       "      <td>J</td>\n",
       "      <td>SI2</td>\n",
       "      <td>63.3</td>\n",
       "      <td>58.0</td>\n",
       "      <td>4.34</td>\n",
       "      <td>4.35</td>\n",
       "      <td>2.75</td>\n",
       "      <td>335</td>\n",
       "    </tr>\n",
       "  </tbody>\n",
       "</table>\n",
       "</div>"
      ],
      "text/plain": [
       "   Unnamed: 0  carat      cut color clarity  depth  table     x     y     z  \\\n",
       "0           1   0.23    Ideal     E     SI2   61.5   55.0  3.95  3.98  2.43   \n",
       "1           2   0.21  Premium     E     SI1   59.8   61.0  3.89  3.84  2.31   \n",
       "2           3   0.23     Good     E     VS1   56.9   65.0  4.05  4.07  2.31   \n",
       "3           4   0.29  Premium     I     VS2   62.4   58.0  4.20  4.23  2.63   \n",
       "4           5   0.31     Good     J     SI2   63.3   58.0  4.34  4.35  2.75   \n",
       "\n",
       "   price  \n",
       "0    326  \n",
       "1    326  \n",
       "2    327  \n",
       "3    334  \n",
       "4    335  "
      ]
     },
     "execution_count": 4,
     "metadata": {},
     "output_type": "execute_result"
    }
   ],
   "source": [
    "d=pd.read_csv(\"C:\\\\Users\\\\abhi\\\\Desktop\\\\data Analytics course\\\\Datasets\\\\diamonds.csv\")\n",
    "d.head()"
   ]
  },
  {
   "cell_type": "code",
   "execution_count": 5,
   "id": "7894b41a",
   "metadata": {},
   "outputs": [
    {
     "data": {
      "text/html": [
       "<div>\n",
       "<style scoped>\n",
       "    .dataframe tbody tr th:only-of-type {\n",
       "        vertical-align: middle;\n",
       "    }\n",
       "\n",
       "    .dataframe tbody tr th {\n",
       "        vertical-align: top;\n",
       "    }\n",
       "\n",
       "    .dataframe thead th {\n",
       "        text-align: right;\n",
       "    }\n",
       "</style>\n",
       "<table border=\"1\" class=\"dataframe\">\n",
       "  <thead>\n",
       "    <tr style=\"text-align: right;\">\n",
       "      <th></th>\n",
       "      <th>Unnamed: 0</th>\n",
       "      <th>carat</th>\n",
       "      <th>cut</th>\n",
       "      <th>color</th>\n",
       "      <th>clarity</th>\n",
       "      <th>depth</th>\n",
       "      <th>table</th>\n",
       "      <th>x</th>\n",
       "      <th>y</th>\n",
       "      <th>z</th>\n",
       "      <th>price</th>\n",
       "    </tr>\n",
       "  </thead>\n",
       "  <tbody>\n",
       "    <tr>\n",
       "      <th>53938</th>\n",
       "      <td>53939</td>\n",
       "      <td>0.86</td>\n",
       "      <td>Premium</td>\n",
       "      <td>H</td>\n",
       "      <td>SI2</td>\n",
       "      <td>61.0</td>\n",
       "      <td>58.0</td>\n",
       "      <td>6.15</td>\n",
       "      <td>6.12</td>\n",
       "      <td>3.74</td>\n",
       "      <td>2757</td>\n",
       "    </tr>\n",
       "    <tr>\n",
       "      <th>53939</th>\n",
       "      <td>53940</td>\n",
       "      <td>0.75</td>\n",
       "      <td>Ideal</td>\n",
       "      <td>D</td>\n",
       "      <td>SI2</td>\n",
       "      <td>62.2</td>\n",
       "      <td>55.0</td>\n",
       "      <td>5.83</td>\n",
       "      <td>5.87</td>\n",
       "      <td>3.64</td>\n",
       "      <td>2757</td>\n",
       "    </tr>\n",
       "  </tbody>\n",
       "</table>\n",
       "</div>"
      ],
      "text/plain": [
       "       Unnamed: 0  carat      cut color clarity  depth  table     x     y  \\\n",
       "53938       53939   0.86  Premium     H     SI2   61.0   58.0  6.15  6.12   \n",
       "53939       53940   0.75    Ideal     D     SI2   62.2   55.0  5.83  5.87   \n",
       "\n",
       "          z  price  \n",
       "53938  3.74   2757  \n",
       "53939  3.64   2757  "
      ]
     },
     "execution_count": 5,
     "metadata": {},
     "output_type": "execute_result"
    }
   ],
   "source": [
    "d.tail(n=2)"
   ]
  },
  {
   "cell_type": "code",
   "execution_count": 6,
   "id": "dbe31a21",
   "metadata": {},
   "outputs": [
    {
     "data": {
      "text/plain": [
       "593340"
      ]
     },
     "execution_count": 6,
     "metadata": {},
     "output_type": "execute_result"
    }
   ],
   "source": [
    "d.size"
   ]
  },
  {
   "cell_type": "code",
   "execution_count": 7,
   "id": "d67a8d30",
   "metadata": {},
   "outputs": [
    {
     "data": {
      "text/plain": [
       "(53940, 11)"
      ]
     },
     "execution_count": 7,
     "metadata": {},
     "output_type": "execute_result"
    }
   ],
   "source": [
    "d.shape"
   ]
  },
  {
   "cell_type": "markdown",
   "id": "7db84be3",
   "metadata": {},
   "source": [
    "# Data Cleaning and Preprocessing"
   ]
  },
  {
   "cell_type": "markdown",
   "id": "23d1fc96",
   "metadata": {},
   "source": [
    "Steps involved in Data Preprocessing:\n",
    "\n",
    "__*1.Data cleaning.*__\n",
    "\n",
    "__*2.Identifying and removing outliers.*__\n",
    "\n",
    "__*3.Encoding categorical variables.*__"
   ]
  },
  {
   "cell_type": "code",
   "execution_count": 8,
   "id": "06c2f5c5",
   "metadata": {},
   "outputs": [
    {
     "data": {
      "text/html": [
       "<div>\n",
       "<style scoped>\n",
       "    .dataframe tbody tr th:only-of-type {\n",
       "        vertical-align: middle;\n",
       "    }\n",
       "\n",
       "    .dataframe tbody tr th {\n",
       "        vertical-align: top;\n",
       "    }\n",
       "\n",
       "    .dataframe thead th {\n",
       "        text-align: right;\n",
       "    }\n",
       "</style>\n",
       "<table border=\"1\" class=\"dataframe\">\n",
       "  <thead>\n",
       "    <tr style=\"text-align: right;\">\n",
       "      <th></th>\n",
       "      <th>carat</th>\n",
       "      <th>depth</th>\n",
       "      <th>table</th>\n",
       "      <th>x</th>\n",
       "      <th>y</th>\n",
       "      <th>z</th>\n",
       "      <th>price</th>\n",
       "    </tr>\n",
       "  </thead>\n",
       "  <tbody>\n",
       "    <tr>\n",
       "      <th>count</th>\n",
       "      <td>53940.000000</td>\n",
       "      <td>53940.000000</td>\n",
       "      <td>53940.000000</td>\n",
       "      <td>53940.000000</td>\n",
       "      <td>53940.000000</td>\n",
       "      <td>53940.000000</td>\n",
       "      <td>53940.000000</td>\n",
       "    </tr>\n",
       "    <tr>\n",
       "      <th>mean</th>\n",
       "      <td>0.797940</td>\n",
       "      <td>61.749405</td>\n",
       "      <td>57.457184</td>\n",
       "      <td>5.731157</td>\n",
       "      <td>5.734526</td>\n",
       "      <td>3.538734</td>\n",
       "      <td>3932.799722</td>\n",
       "    </tr>\n",
       "    <tr>\n",
       "      <th>std</th>\n",
       "      <td>0.474011</td>\n",
       "      <td>1.432621</td>\n",
       "      <td>2.234491</td>\n",
       "      <td>1.121761</td>\n",
       "      <td>1.142135</td>\n",
       "      <td>0.705699</td>\n",
       "      <td>3989.439738</td>\n",
       "    </tr>\n",
       "    <tr>\n",
       "      <th>min</th>\n",
       "      <td>0.200000</td>\n",
       "      <td>43.000000</td>\n",
       "      <td>43.000000</td>\n",
       "      <td>0.000000</td>\n",
       "      <td>0.000000</td>\n",
       "      <td>0.000000</td>\n",
       "      <td>326.000000</td>\n",
       "    </tr>\n",
       "    <tr>\n",
       "      <th>25%</th>\n",
       "      <td>0.400000</td>\n",
       "      <td>61.000000</td>\n",
       "      <td>56.000000</td>\n",
       "      <td>4.710000</td>\n",
       "      <td>4.720000</td>\n",
       "      <td>2.910000</td>\n",
       "      <td>950.000000</td>\n",
       "    </tr>\n",
       "    <tr>\n",
       "      <th>50%</th>\n",
       "      <td>0.700000</td>\n",
       "      <td>61.800000</td>\n",
       "      <td>57.000000</td>\n",
       "      <td>5.700000</td>\n",
       "      <td>5.710000</td>\n",
       "      <td>3.530000</td>\n",
       "      <td>2401.000000</td>\n",
       "    </tr>\n",
       "    <tr>\n",
       "      <th>75%</th>\n",
       "      <td>1.040000</td>\n",
       "      <td>62.500000</td>\n",
       "      <td>59.000000</td>\n",
       "      <td>6.540000</td>\n",
       "      <td>6.540000</td>\n",
       "      <td>4.040000</td>\n",
       "      <td>5324.250000</td>\n",
       "    </tr>\n",
       "    <tr>\n",
       "      <th>max</th>\n",
       "      <td>5.010000</td>\n",
       "      <td>79.000000</td>\n",
       "      <td>95.000000</td>\n",
       "      <td>10.740000</td>\n",
       "      <td>58.900000</td>\n",
       "      <td>31.800000</td>\n",
       "      <td>18823.000000</td>\n",
       "    </tr>\n",
       "  </tbody>\n",
       "</table>\n",
       "</div>"
      ],
      "text/plain": [
       "              carat         depth         table             x             y  \\\n",
       "count  53940.000000  53940.000000  53940.000000  53940.000000  53940.000000   \n",
       "mean       0.797940     61.749405     57.457184      5.731157      5.734526   \n",
       "std        0.474011      1.432621      2.234491      1.121761      1.142135   \n",
       "min        0.200000     43.000000     43.000000      0.000000      0.000000   \n",
       "25%        0.400000     61.000000     56.000000      4.710000      4.720000   \n",
       "50%        0.700000     61.800000     57.000000      5.700000      5.710000   \n",
       "75%        1.040000     62.500000     59.000000      6.540000      6.540000   \n",
       "max        5.010000     79.000000     95.000000     10.740000     58.900000   \n",
       "\n",
       "                  z         price  \n",
       "count  53940.000000  53940.000000  \n",
       "mean       3.538734   3932.799722  \n",
       "std        0.705699   3989.439738  \n",
       "min        0.000000    326.000000  \n",
       "25%        2.910000    950.000000  \n",
       "50%        3.530000   2401.000000  \n",
       "75%        4.040000   5324.250000  \n",
       "max       31.800000  18823.000000  "
      ]
     },
     "execution_count": 8,
     "metadata": {},
     "output_type": "execute_result"
    }
   ],
   "source": [
    "#The first column seems to be just index\n",
    "d = d.drop([\"Unnamed: 0\"], axis=1)\n",
    "d.describe()"
   ]
  },
  {
   "cell_type": "markdown",
   "id": "02c60b81",
   "metadata": {},
   "source": [
    "__*Points to notice:\n",
    "Min value of \"x\", \"y\", \"z\" are zero this indicates that there are faulty values in data that represents dimensionless or 2-dimensional diamonds. So we need to filter out those as it clearly faulty data points.*__"
   ]
  },
  {
   "cell_type": "code",
   "execution_count": 9,
   "id": "1f524a3b",
   "metadata": {},
   "outputs": [
    {
     "data": {
      "text/plain": [
       "(53920, 10)"
      ]
     },
     "execution_count": 9,
     "metadata": {},
     "output_type": "execute_result"
    }
   ],
   "source": [
    "#Dropping dimentionless diamonds\n",
    "d = d.drop(d[d[\"x\"]==0].index)\n",
    "d = d.drop(d[d[\"y\"]==0].index)\n",
    "d = d.drop(d[d[\"z\"]==0].index)\n",
    "d.shape"
   ]
  },
  {
   "cell_type": "code",
   "execution_count": 10,
   "id": "5b3d1766",
   "metadata": {},
   "outputs": [],
   "source": [
    "# We lost 20 data points by deleting the dimensionless(2-D or 1-D) diamonds."
   ]
  },
  {
   "cell_type": "code",
   "execution_count": 11,
   "id": "b3333820",
   "metadata": {},
   "outputs": [
    {
     "name": "stdout",
     "output_type": "stream",
     "text": [
      "<class 'pandas.core.frame.DataFrame'>\n",
      "Int64Index: 53920 entries, 0 to 53939\n",
      "Data columns (total 10 columns):\n",
      " #   Column   Non-Null Count  Dtype  \n",
      "---  ------   --------------  -----  \n",
      " 0   carat    53920 non-null  float64\n",
      " 1   cut      53920 non-null  object \n",
      " 2   color    53920 non-null  object \n",
      " 3   clarity  53920 non-null  object \n",
      " 4   depth    53920 non-null  float64\n",
      " 5   table    53920 non-null  float64\n",
      " 6   x        53920 non-null  float64\n",
      " 7   y        53920 non-null  float64\n",
      " 8   z        53920 non-null  float64\n",
      " 9   price    53920 non-null  int64  \n",
      "dtypes: float64(6), int64(1), object(3)\n",
      "memory usage: 4.5+ MB\n"
     ]
    }
   ],
   "source": [
    "d.info()"
   ]
  },
  {
   "cell_type": "code",
   "execution_count": 12,
   "id": "e18dce17",
   "metadata": {},
   "outputs": [
    {
     "data": {
      "text/plain": [
       "Index(['carat', 'cut', 'color', 'clarity', 'depth', 'table', 'x', 'y', 'z',\n",
       "       'price'],\n",
       "      dtype='object')"
      ]
     },
     "execution_count": 12,
     "metadata": {},
     "output_type": "execute_result"
    }
   ],
   "source": [
    "d.columns"
   ]
  },
  {
   "cell_type": "code",
   "execution_count": 13,
   "id": "8899435b",
   "metadata": {},
   "outputs": [
    {
     "data": {
      "text/plain": [
       "carat        273\n",
       "cut            5\n",
       "color          7\n",
       "clarity        8\n",
       "depth        184\n",
       "table        127\n",
       "x            553\n",
       "y            550\n",
       "z            374\n",
       "price      11597\n",
       "dtype: int64"
      ]
     },
     "execution_count": 13,
     "metadata": {},
     "output_type": "execute_result"
    }
   ],
   "source": [
    "d.nunique()"
   ]
  },
  {
   "cell_type": "code",
   "execution_count": 14,
   "id": "3e906bd7",
   "metadata": {},
   "outputs": [
    {
     "data": {
      "text/plain": [
       "carat      0\n",
       "cut        0\n",
       "color      0\n",
       "clarity    0\n",
       "depth      0\n",
       "table      0\n",
       "x          0\n",
       "y          0\n",
       "z          0\n",
       "price      0\n",
       "dtype: int64"
      ]
     },
     "execution_count": 14,
     "metadata": {},
     "output_type": "execute_result"
    }
   ],
   "source": [
    "#Checking Missing value\n",
    "d.isna().sum()"
   ]
  },
  {
   "cell_type": "code",
   "execution_count": 15,
   "id": "15bb5962",
   "metadata": {},
   "outputs": [
    {
     "data": {
      "text/plain": [
       "145"
      ]
     },
     "execution_count": 15,
     "metadata": {},
     "output_type": "execute_result"
    }
   ],
   "source": [
    "#Checking duplicated value\n",
    "d.duplicated().sum()"
   ]
  },
  {
   "cell_type": "code",
   "execution_count": 16,
   "id": "b7c4ae4d",
   "metadata": {},
   "outputs": [
    {
     "data": {
      "text/plain": [
       "carat        AxesSubplot(0.125,0.71587;0.168478x0.16413)\n",
       "depth     AxesSubplot(0.327174,0.71587;0.168478x0.16413)\n",
       "table     AxesSubplot(0.529348,0.71587;0.168478x0.16413)\n",
       "x         AxesSubplot(0.731522,0.71587;0.168478x0.16413)\n",
       "y           AxesSubplot(0.125,0.518913;0.168478x0.16413)\n",
       "z        AxesSubplot(0.327174,0.518913;0.168478x0.16413)\n",
       "price    AxesSubplot(0.529348,0.518913;0.168478x0.16413)\n",
       "dtype: object"
      ]
     },
     "execution_count": 16,
     "metadata": {},
     "output_type": "execute_result"
    },
    {
     "data": {
      "image/png": "[encoded data removed]",
      "text/plain": [
       "<Figure size 1440x1440 with 16 Axes>"
      ]
     },
     "metadata": {
      "needs_background": "light"
     },
     "output_type": "display_data"
    }
   ],
   "source": [
    "#Outlier Detection\n",
    "d.plot(kind=\"box\",subplots=True,layout=(4,4),sharex=False,sharey=False,figsize=(20,20))"
   ]
  },
  {
   "cell_type": "code",
   "execution_count": 17,
   "id": "969db6b3",
   "metadata": {},
   "outputs": [],
   "source": [
    "#Dropping the outliers. \n",
    "d = d[(d[\"depth\"]<63)&(d[\"depth\"]>60)]\n",
    "d= d[(d[\"table\"]<60)&(d[\"table\"]>55)]\n",
    "d = d[(d[\"x\"]<9)]\n",
    "d = d[(d[\"y\"]<9)]\n",
    "d = d[(d[\"z\"]<6)&(d[\"z\"]>2)]\n",
    "d= d[(d[\"carat\"]<2.0)]\n",
    "d = d[(d[\"price\"]<10000)]"
   ]
  },
  {
   "cell_type": "code",
   "execution_count": 18,
   "id": "b9ba59ae",
   "metadata": {},
   "outputs": [
    {
     "data": {
      "text/plain": [
       "carat        AxesSubplot(0.125,0.71587;0.168478x0.16413)\n",
       "depth     AxesSubplot(0.327174,0.71587;0.168478x0.16413)\n",
       "table     AxesSubplot(0.529348,0.71587;0.168478x0.16413)\n",
       "x         AxesSubplot(0.731522,0.71587;0.168478x0.16413)\n",
       "y           AxesSubplot(0.125,0.518913;0.168478x0.16413)\n",
       "z        AxesSubplot(0.327174,0.518913;0.168478x0.16413)\n",
       "price    AxesSubplot(0.529348,0.518913;0.168478x0.16413)\n",
       "dtype: object"
      ]
     },
     "execution_count": 18,
     "metadata": {},
     "output_type": "execute_result"
    },
    {
     "data": {
      "image/png": "[encoded data removed]",
      "text/plain": [
       "<Figure size 1440x1440 with 16 Axes>"
      ]
     },
     "metadata": {
      "needs_background": "light"
     },
     "output_type": "display_data"
    }
   ],
   "source": [
    "d.plot(kind=\"box\",subplots=True,layout=(4,4),sharex=False,sharey=False,figsize=(20,20))"
   ]
  },
  {
   "cell_type": "markdown",
   "id": "e9d47676",
   "metadata": {},
   "source": [
    "__*It seems to be no more outliers present in the data*__"
   ]
  },
  {
   "cell_type": "code",
   "execution_count": 19,
   "id": "82187bbe",
   "metadata": {},
   "outputs": [],
   "source": [
    "#Encoding Categorical Variable"
   ]
  },
  {
   "cell_type": "code",
   "execution_count": 20,
   "id": "ea84db83",
   "metadata": {},
   "outputs": [],
   "source": [
    "from sklearn.preprocessing import LabelEncoder\n",
    "lb=LabelEncoder()"
   ]
  },
  {
   "cell_type": "code",
   "execution_count": 21,
   "id": "de4d6dc7",
   "metadata": {},
   "outputs": [
    {
     "data": {
      "text/plain": [
       "['cut', 'color', 'clarity']"
      ]
     },
     "execution_count": 21,
     "metadata": {},
     "output_type": "execute_result"
    }
   ],
   "source": [
    "lst=[]\n",
    "for i in d.columns:\n",
    "    if d[i].dtype==\"O\":\n",
    "        lst.append(i)\n",
    "        \n",
    "lst        "
   ]
  },
  {
   "cell_type": "code",
   "execution_count": 22,
   "id": "78374897",
   "metadata": {},
   "outputs": [],
   "source": [
    "for i in lst:\n",
    "    d[i]=lb.fit_transform(d[i])"
   ]
  },
  {
   "cell_type": "code",
   "execution_count": 23,
   "id": "96891d35",
   "metadata": {},
   "outputs": [
    {
     "data": {
      "text/html": [
       "<div>\n",
       "<style scoped>\n",
       "    .dataframe tbody tr th:only-of-type {\n",
       "        vertical-align: middle;\n",
       "    }\n",
       "\n",
       "    .dataframe tbody tr th {\n",
       "        vertical-align: top;\n",
       "    }\n",
       "\n",
       "    .dataframe thead th {\n",
       "        text-align: right;\n",
       "    }\n",
       "</style>\n",
       "<table border=\"1\" class=\"dataframe\">\n",
       "  <thead>\n",
       "    <tr style=\"text-align: right;\">\n",
       "      <th></th>\n",
       "      <th>carat</th>\n",
       "      <th>cut</th>\n",
       "      <th>color</th>\n",
       "      <th>clarity</th>\n",
       "      <th>depth</th>\n",
       "      <th>table</th>\n",
       "      <th>x</th>\n",
       "      <th>y</th>\n",
       "      <th>z</th>\n",
       "      <th>price</th>\n",
       "    </tr>\n",
       "  </thead>\n",
       "  <tbody>\n",
       "    <tr>\n",
       "      <th>3</th>\n",
       "      <td>0.29</td>\n",
       "      <td>3</td>\n",
       "      <td>5</td>\n",
       "      <td>5</td>\n",
       "      <td>62.4</td>\n",
       "      <td>58.0</td>\n",
       "      <td>4.20</td>\n",
       "      <td>4.23</td>\n",
       "      <td>2.63</td>\n",
       "      <td>334</td>\n",
       "    </tr>\n",
       "    <tr>\n",
       "      <th>5</th>\n",
       "      <td>0.24</td>\n",
       "      <td>4</td>\n",
       "      <td>6</td>\n",
       "      <td>7</td>\n",
       "      <td>62.8</td>\n",
       "      <td>57.0</td>\n",
       "      <td>3.94</td>\n",
       "      <td>3.96</td>\n",
       "      <td>2.48</td>\n",
       "      <td>336</td>\n",
       "    </tr>\n",
       "    <tr>\n",
       "      <th>6</th>\n",
       "      <td>0.24</td>\n",
       "      <td>4</td>\n",
       "      <td>5</td>\n",
       "      <td>6</td>\n",
       "      <td>62.3</td>\n",
       "      <td>57.0</td>\n",
       "      <td>3.95</td>\n",
       "      <td>3.98</td>\n",
       "      <td>2.47</td>\n",
       "      <td>336</td>\n",
       "    </tr>\n",
       "    <tr>\n",
       "      <th>11</th>\n",
       "      <td>0.23</td>\n",
       "      <td>2</td>\n",
       "      <td>6</td>\n",
       "      <td>4</td>\n",
       "      <td>62.8</td>\n",
       "      <td>56.0</td>\n",
       "      <td>3.93</td>\n",
       "      <td>3.90</td>\n",
       "      <td>2.46</td>\n",
       "      <td>340</td>\n",
       "    </tr>\n",
       "    <tr>\n",
       "      <th>15</th>\n",
       "      <td>0.32</td>\n",
       "      <td>3</td>\n",
       "      <td>1</td>\n",
       "      <td>0</td>\n",
       "      <td>60.9</td>\n",
       "      <td>58.0</td>\n",
       "      <td>4.38</td>\n",
       "      <td>4.42</td>\n",
       "      <td>2.68</td>\n",
       "      <td>345</td>\n",
       "    </tr>\n",
       "  </tbody>\n",
       "</table>\n",
       "</div>"
      ],
      "text/plain": [
       "    carat  cut  color  clarity  depth  table     x     y     z  price\n",
       "3    0.29    3      5        5   62.4   58.0  4.20  4.23  2.63    334\n",
       "5    0.24    4      6        7   62.8   57.0  3.94  3.96  2.48    336\n",
       "6    0.24    4      5        6   62.3   57.0  3.95  3.98  2.47    336\n",
       "11   0.23    2      6        4   62.8   56.0  3.93  3.90  2.46    340\n",
       "15   0.32    3      1        0   60.9   58.0  4.38  4.42  2.68    345"
      ]
     },
     "execution_count": 23,
     "metadata": {},
     "output_type": "execute_result"
    }
   ],
   "source": [
    "d.head()"
   ]
  },
  {
   "cell_type": "code",
   "execution_count": 24,
   "id": "af55a8dd",
   "metadata": {},
   "outputs": [
    {
     "data": {
      "text/html": [
       "<div>\n",
       "<style scoped>\n",
       "    .dataframe tbody tr th:only-of-type {\n",
       "        vertical-align: middle;\n",
       "    }\n",
       "\n",
       "    .dataframe tbody tr th {\n",
       "        vertical-align: top;\n",
       "    }\n",
       "\n",
       "    .dataframe thead th {\n",
       "        text-align: right;\n",
       "    }\n",
       "</style>\n",
       "<table border=\"1\" class=\"dataframe\">\n",
       "  <thead>\n",
       "    <tr style=\"text-align: right;\">\n",
       "      <th></th>\n",
       "      <th>carat</th>\n",
       "      <th>cut</th>\n",
       "      <th>color</th>\n",
       "      <th>clarity</th>\n",
       "      <th>depth</th>\n",
       "      <th>table</th>\n",
       "      <th>x</th>\n",
       "      <th>y</th>\n",
       "      <th>z</th>\n",
       "      <th>price</th>\n",
       "    </tr>\n",
       "  </thead>\n",
       "  <tbody>\n",
       "    <tr>\n",
       "      <th>carat</th>\n",
       "      <td>1.000000</td>\n",
       "      <td>0.077338</td>\n",
       "      <td>0.304649</td>\n",
       "      <td>-0.252608</td>\n",
       "      <td>0.083597</td>\n",
       "      <td>0.130620</td>\n",
       "      <td>0.988038</td>\n",
       "      <td>0.986942</td>\n",
       "      <td>0.988115</td>\n",
       "      <td>0.930715</td>\n",
       "    </tr>\n",
       "    <tr>\n",
       "      <th>cut</th>\n",
       "      <td>0.077338</td>\n",
       "      <td>1.000000</td>\n",
       "      <td>0.036676</td>\n",
       "      <td>-0.027577</td>\n",
       "      <td>0.090032</td>\n",
       "      <td>0.466051</td>\n",
       "      <td>0.062148</td>\n",
       "      <td>0.068078</td>\n",
       "      <td>0.070660</td>\n",
       "      <td>0.046394</td>\n",
       "    </tr>\n",
       "    <tr>\n",
       "      <th>color</th>\n",
       "      <td>0.304649</td>\n",
       "      <td>0.036676</td>\n",
       "      <td>1.000000</td>\n",
       "      <td>-0.033778</td>\n",
       "      <td>0.051363</td>\n",
       "      <td>0.054998</td>\n",
       "      <td>0.279831</td>\n",
       "      <td>0.279938</td>\n",
       "      <td>0.282078</td>\n",
       "      <td>0.190954</td>\n",
       "    </tr>\n",
       "    <tr>\n",
       "      <th>clarity</th>\n",
       "      <td>-0.252608</td>\n",
       "      <td>-0.027577</td>\n",
       "      <td>-0.033778</td>\n",
       "      <td>1.000000</td>\n",
       "      <td>-0.033104</td>\n",
       "      <td>-0.062301</td>\n",
       "      <td>-0.260326</td>\n",
       "      <td>-0.258575</td>\n",
       "      <td>-0.260509</td>\n",
       "      <td>-0.111728</td>\n",
       "    </tr>\n",
       "    <tr>\n",
       "      <th>depth</th>\n",
       "      <td>0.083597</td>\n",
       "      <td>0.090032</td>\n",
       "      <td>0.051363</td>\n",
       "      <td>-0.033104</td>\n",
       "      <td>1.000000</td>\n",
       "      <td>-0.027486</td>\n",
       "      <td>0.046990</td>\n",
       "      <td>0.045766</td>\n",
       "      <td>0.113723</td>\n",
       "      <td>0.063925</td>\n",
       "    </tr>\n",
       "    <tr>\n",
       "      <th>table</th>\n",
       "      <td>0.130620</td>\n",
       "      <td>0.466051</td>\n",
       "      <td>0.054998</td>\n",
       "      <td>-0.062301</td>\n",
       "      <td>-0.027486</td>\n",
       "      <td>1.000000</td>\n",
       "      <td>0.115276</td>\n",
       "      <td>0.111009</td>\n",
       "      <td>0.110762</td>\n",
       "      <td>0.097736</td>\n",
       "    </tr>\n",
       "    <tr>\n",
       "      <th>x</th>\n",
       "      <td>0.988038</td>\n",
       "      <td>0.062148</td>\n",
       "      <td>0.279831</td>\n",
       "      <td>-0.260326</td>\n",
       "      <td>0.046990</td>\n",
       "      <td>0.115276</td>\n",
       "      <td>1.000000</td>\n",
       "      <td>0.998375</td>\n",
       "      <td>0.997076</td>\n",
       "      <td>0.912592</td>\n",
       "    </tr>\n",
       "    <tr>\n",
       "      <th>y</th>\n",
       "      <td>0.986942</td>\n",
       "      <td>0.068078</td>\n",
       "      <td>0.279938</td>\n",
       "      <td>-0.258575</td>\n",
       "      <td>0.045766</td>\n",
       "      <td>0.111009</td>\n",
       "      <td>0.998375</td>\n",
       "      <td>1.000000</td>\n",
       "      <td>0.996928</td>\n",
       "      <td>0.912912</td>\n",
       "    </tr>\n",
       "    <tr>\n",
       "      <th>z</th>\n",
       "      <td>0.988115</td>\n",
       "      <td>0.070660</td>\n",
       "      <td>0.282078</td>\n",
       "      <td>-0.260509</td>\n",
       "      <td>0.113723</td>\n",
       "      <td>0.110762</td>\n",
       "      <td>0.997076</td>\n",
       "      <td>0.996928</td>\n",
       "      <td>1.000000</td>\n",
       "      <td>0.912283</td>\n",
       "    </tr>\n",
       "    <tr>\n",
       "      <th>price</th>\n",
       "      <td>0.930715</td>\n",
       "      <td>0.046394</td>\n",
       "      <td>0.190954</td>\n",
       "      <td>-0.111728</td>\n",
       "      <td>0.063925</td>\n",
       "      <td>0.097736</td>\n",
       "      <td>0.912592</td>\n",
       "      <td>0.912912</td>\n",
       "      <td>0.912283</td>\n",
       "      <td>1.000000</td>\n",
       "    </tr>\n",
       "  </tbody>\n",
       "</table>\n",
       "</div>"
      ],
      "text/plain": [
       "            carat       cut     color   clarity     depth     table         x  \\\n",
       "carat    1.000000  0.077338  0.304649 -0.252608  0.083597  0.130620  0.988038   \n",
       "cut      0.077338  1.000000  0.036676 -0.027577  0.090032  0.466051  0.062148   \n",
       "color    0.304649  0.036676  1.000000 -0.033778  0.051363  0.054998  0.279831   \n",
       "clarity -0.252608 -0.027577 -0.033778  1.000000 -0.033104 -0.062301 -0.260326   \n",
       "depth    0.083597  0.090032  0.051363 -0.033104  1.000000 -0.027486  0.046990   \n",
       "table    0.130620  0.466051  0.054998 -0.062301 -0.027486  1.000000  0.115276   \n",
       "x        0.988038  0.062148  0.279831 -0.260326  0.046990  0.115276  1.000000   \n",
       "y        0.986942  0.068078  0.279938 -0.258575  0.045766  0.111009  0.998375   \n",
       "z        0.988115  0.070660  0.282078 -0.260509  0.113723  0.110762  0.997076   \n",
       "price    0.930715  0.046394  0.190954 -0.111728  0.063925  0.097736  0.912592   \n",
       "\n",
       "                y         z     price  \n",
       "carat    0.986942  0.988115  0.930715  \n",
       "cut      0.068078  0.070660  0.046394  \n",
       "color    0.279938  0.282078  0.190954  \n",
       "clarity -0.258575 -0.260509 -0.111728  \n",
       "depth    0.045766  0.113723  0.063925  \n",
       "table    0.111009  0.110762  0.097736  \n",
       "x        0.998375  0.997076  0.912592  \n",
       "y        1.000000  0.996928  0.912912  \n",
       "z        0.996928  1.000000  0.912283  \n",
       "price    0.912912  0.912283  1.000000  "
      ]
     },
     "execution_count": 24,
     "metadata": {},
     "output_type": "execute_result"
    }
   ],
   "source": [
    "#Checking Multicollinearity\n",
    "d.corr()"
   ]
  },
  {
   "cell_type": "code",
   "execution_count": 25,
   "id": "072ee631",
   "metadata": {},
   "outputs": [
    {
     "data": {
      "image/png": "[encoded data removed]",
      "text/plain": [
       "<Figure size 720x720 with 2 Axes>"
      ]
     },
     "metadata": {
      "needs_background": "light"
     },
     "output_type": "display_data"
    }
   ],
   "source": [
    "plt.figure(figsize=(10,10))\n",
    "sns.heatmap(d.corr(),annot=True,linewidths=1)\n",
    "plt.show()"
   ]
  },
  {
   "cell_type": "markdown",
   "id": "0c3ce19e",
   "metadata": {},
   "source": [
    "__*Points to notice:\n",
    "\"x\", \"y\" and \"z\" show a high correlation to the target column.\n",
    "\"depth\", \"cut\" and \"table\" show low correlation. We could consider dropping but let's keep it.*__"
   ]
  },
  {
   "cell_type": "code",
   "execution_count": null,
   "id": "8d52fc6c",
   "metadata": {},
   "outputs": [],
   "source": []
  },
  {
   "cell_type": "markdown",
   "id": "9b478167",
   "metadata": {},
   "source": [
    "# Splitting Data into depenedent and independent variable"
   ]
  },
  {
   "cell_type": "code",
   "execution_count": 49,
   "id": "942affb9",
   "metadata": {},
   "outputs": [
    {
     "data": {
      "text/html": [
       "<div>\n",
       "<style scoped>\n",
       "    .dataframe tbody tr th:only-of-type {\n",
       "        vertical-align: middle;\n",
       "    }\n",
       "\n",
       "    .dataframe tbody tr th {\n",
       "        vertical-align: top;\n",
       "    }\n",
       "\n",
       "    .dataframe thead th {\n",
       "        text-align: right;\n",
       "    }\n",
       "</style>\n",
       "<table border=\"1\" class=\"dataframe\">\n",
       "  <thead>\n",
       "    <tr style=\"text-align: right;\">\n",
       "      <th></th>\n",
       "      <th>carat</th>\n",
       "      <th>cut</th>\n",
       "      <th>color</th>\n",
       "      <th>clarity</th>\n",
       "      <th>depth</th>\n",
       "      <th>table</th>\n",
       "      <th>x</th>\n",
       "      <th>y</th>\n",
       "      <th>z</th>\n",
       "    </tr>\n",
       "  </thead>\n",
       "  <tbody>\n",
       "    <tr>\n",
       "      <th>3</th>\n",
       "      <td>0.29</td>\n",
       "      <td>3</td>\n",
       "      <td>5</td>\n",
       "      <td>5</td>\n",
       "      <td>62.4</td>\n",
       "      <td>58.0</td>\n",
       "      <td>4.20</td>\n",
       "      <td>4.23</td>\n",
       "      <td>2.63</td>\n",
       "    </tr>\n",
       "    <tr>\n",
       "      <th>5</th>\n",
       "      <td>0.24</td>\n",
       "      <td>4</td>\n",
       "      <td>6</td>\n",
       "      <td>7</td>\n",
       "      <td>62.8</td>\n",
       "      <td>57.0</td>\n",
       "      <td>3.94</td>\n",
       "      <td>3.96</td>\n",
       "      <td>2.48</td>\n",
       "    </tr>\n",
       "    <tr>\n",
       "      <th>6</th>\n",
       "      <td>0.24</td>\n",
       "      <td>4</td>\n",
       "      <td>5</td>\n",
       "      <td>6</td>\n",
       "      <td>62.3</td>\n",
       "      <td>57.0</td>\n",
       "      <td>3.95</td>\n",
       "      <td>3.98</td>\n",
       "      <td>2.47</td>\n",
       "    </tr>\n",
       "    <tr>\n",
       "      <th>11</th>\n",
       "      <td>0.23</td>\n",
       "      <td>2</td>\n",
       "      <td>6</td>\n",
       "      <td>4</td>\n",
       "      <td>62.8</td>\n",
       "      <td>56.0</td>\n",
       "      <td>3.93</td>\n",
       "      <td>3.90</td>\n",
       "      <td>2.46</td>\n",
       "    </tr>\n",
       "    <tr>\n",
       "      <th>15</th>\n",
       "      <td>0.32</td>\n",
       "      <td>3</td>\n",
       "      <td>1</td>\n",
       "      <td>0</td>\n",
       "      <td>60.9</td>\n",
       "      <td>58.0</td>\n",
       "      <td>4.38</td>\n",
       "      <td>4.42</td>\n",
       "      <td>2.68</td>\n",
       "    </tr>\n",
       "  </tbody>\n",
       "</table>\n",
       "</div>"
      ],
      "text/plain": [
       "    carat  cut  color  clarity  depth  table     x     y     z\n",
       "3    0.29    3      5        5   62.4   58.0  4.20  4.23  2.63\n",
       "5    0.24    4      6        7   62.8   57.0  3.94  3.96  2.48\n",
       "6    0.24    4      5        6   62.3   57.0  3.95  3.98  2.47\n",
       "11   0.23    2      6        4   62.8   56.0  3.93  3.90  2.46\n",
       "15   0.32    3      1        0   60.9   58.0  4.38  4.42  2.68"
      ]
     },
     "execution_count": 49,
     "metadata": {},
     "output_type": "execute_result"
    }
   ],
   "source": [
    "x=d.iloc[:,0:9]\n",
    "x.head()"
   ]
  },
  {
   "cell_type": "code",
   "execution_count": 50,
   "id": "baac6131",
   "metadata": {},
   "outputs": [
    {
     "data": {
      "text/plain": [
       "3     334\n",
       "5     336\n",
       "6     336\n",
       "11    340\n",
       "15    345\n",
       "Name: price, dtype: int64"
      ]
     },
     "execution_count": 50,
     "metadata": {},
     "output_type": "execute_result"
    }
   ],
   "source": [
    "y=d.price\n",
    "y.head()"
   ]
  },
  {
   "cell_type": "markdown",
   "id": "d382512c",
   "metadata": {},
   "source": [
    "# Splittig data into train test"
   ]
  },
  {
   "cell_type": "markdown",
   "id": "32ebac73",
   "metadata": {},
   "source": [
    "__*Now I split variable into training and testing sets. I will perform this by importing train_test_split from the sklearn.model_selection library. It is usually a good practice to keep 70% of data in train dataset and the rest 30% in test dataset*.__"
   ]
  },
  {
   "cell_type": "code",
   "execution_count": 51,
   "id": "c73998d0",
   "metadata": {},
   "outputs": [],
   "source": [
    "from sklearn.model_selection import train_test_split"
   ]
  },
  {
   "cell_type": "code",
   "execution_count": 52,
   "id": "2a208414",
   "metadata": {},
   "outputs": [],
   "source": [
    "X_train, X_test, y_train, y_test = train_test_split( x, y, test_size=0.3, random_state=55)"
   ]
  },
  {
   "cell_type": "code",
   "execution_count": 53,
   "id": "f0377604",
   "metadata": {},
   "outputs": [
    {
     "data": {
      "text/plain": [
       "((17003, 9), (17003,))"
      ]
     },
     "execution_count": 53,
     "metadata": {},
     "output_type": "execute_result"
    }
   ],
   "source": [
    "X_train.shape, y_train.shape"
   ]
  },
  {
   "cell_type": "code",
   "execution_count": 54,
   "id": "228bdcab",
   "metadata": {},
   "outputs": [
    {
     "data": {
      "text/html": [
       "<div>\n",
       "<style scoped>\n",
       "    .dataframe tbody tr th:only-of-type {\n",
       "        vertical-align: middle;\n",
       "    }\n",
       "\n",
       "    .dataframe tbody tr th {\n",
       "        vertical-align: top;\n",
       "    }\n",
       "\n",
       "    .dataframe thead th {\n",
       "        text-align: right;\n",
       "    }\n",
       "</style>\n",
       "<table border=\"1\" class=\"dataframe\">\n",
       "  <thead>\n",
       "    <tr style=\"text-align: right;\">\n",
       "      <th></th>\n",
       "      <th>carat</th>\n",
       "      <th>cut</th>\n",
       "      <th>color</th>\n",
       "      <th>clarity</th>\n",
       "      <th>depth</th>\n",
       "      <th>table</th>\n",
       "      <th>x</th>\n",
       "      <th>y</th>\n",
       "      <th>z</th>\n",
       "    </tr>\n",
       "  </thead>\n",
       "  <tbody>\n",
       "    <tr>\n",
       "      <th>48532</th>\n",
       "      <td>0.51</td>\n",
       "      <td>2</td>\n",
       "      <td>0</td>\n",
       "      <td>5</td>\n",
       "      <td>61.1</td>\n",
       "      <td>56.0</td>\n",
       "      <td>5.16</td>\n",
       "      <td>5.20</td>\n",
       "      <td>3.17</td>\n",
       "    </tr>\n",
       "    <tr>\n",
       "      <th>34980</th>\n",
       "      <td>0.34</td>\n",
       "      <td>2</td>\n",
       "      <td>2</td>\n",
       "      <td>5</td>\n",
       "      <td>62.1</td>\n",
       "      <td>56.0</td>\n",
       "      <td>4.47</td>\n",
       "      <td>4.45</td>\n",
       "      <td>2.77</td>\n",
       "    </tr>\n",
       "    <tr>\n",
       "      <th>35268</th>\n",
       "      <td>0.30</td>\n",
       "      <td>4</td>\n",
       "      <td>3</td>\n",
       "      <td>1</td>\n",
       "      <td>62.8</td>\n",
       "      <td>57.0</td>\n",
       "      <td>4.28</td>\n",
       "      <td>4.32</td>\n",
       "      <td>2.70</td>\n",
       "    </tr>\n",
       "    <tr>\n",
       "      <th>12632</th>\n",
       "      <td>1.00</td>\n",
       "      <td>3</td>\n",
       "      <td>2</td>\n",
       "      <td>2</td>\n",
       "      <td>60.3</td>\n",
       "      <td>58.0</td>\n",
       "      <td>6.47</td>\n",
       "      <td>6.43</td>\n",
       "      <td>3.89</td>\n",
       "    </tr>\n",
       "    <tr>\n",
       "      <th>50567</th>\n",
       "      <td>0.77</td>\n",
       "      <td>4</td>\n",
       "      <td>2</td>\n",
       "      <td>3</td>\n",
       "      <td>61.1</td>\n",
       "      <td>59.0</td>\n",
       "      <td>5.85</td>\n",
       "      <td>5.95</td>\n",
       "      <td>3.59</td>\n",
       "    </tr>\n",
       "    <tr>\n",
       "      <th>...</th>\n",
       "      <td>...</td>\n",
       "      <td>...</td>\n",
       "      <td>...</td>\n",
       "      <td>...</td>\n",
       "      <td>...</td>\n",
       "      <td>...</td>\n",
       "      <td>...</td>\n",
       "      <td>...</td>\n",
       "      <td>...</td>\n",
       "    </tr>\n",
       "    <tr>\n",
       "      <th>35871</th>\n",
       "      <td>0.30</td>\n",
       "      <td>2</td>\n",
       "      <td>1</td>\n",
       "      <td>6</td>\n",
       "      <td>61.1</td>\n",
       "      <td>56.0</td>\n",
       "      <td>4.36</td>\n",
       "      <td>4.38</td>\n",
       "      <td>2.67</td>\n",
       "    </tr>\n",
       "    <tr>\n",
       "      <th>20896</th>\n",
       "      <td>1.23</td>\n",
       "      <td>2</td>\n",
       "      <td>3</td>\n",
       "      <td>4</td>\n",
       "      <td>61.8</td>\n",
       "      <td>58.0</td>\n",
       "      <td>6.85</td>\n",
       "      <td>6.90</td>\n",
       "      <td>4.25</td>\n",
       "    </tr>\n",
       "    <tr>\n",
       "      <th>37900</th>\n",
       "      <td>0.41</td>\n",
       "      <td>2</td>\n",
       "      <td>0</td>\n",
       "      <td>5</td>\n",
       "      <td>61.7</td>\n",
       "      <td>56.0</td>\n",
       "      <td>4.78</td>\n",
       "      <td>4.81</td>\n",
       "      <td>2.96</td>\n",
       "    </tr>\n",
       "    <tr>\n",
       "      <th>39930</th>\n",
       "      <td>0.35</td>\n",
       "      <td>4</td>\n",
       "      <td>5</td>\n",
       "      <td>5</td>\n",
       "      <td>61.7</td>\n",
       "      <td>57.0</td>\n",
       "      <td>4.52</td>\n",
       "      <td>4.56</td>\n",
       "      <td>2.80</td>\n",
       "    </tr>\n",
       "    <tr>\n",
       "      <th>10469</th>\n",
       "      <td>1.04</td>\n",
       "      <td>4</td>\n",
       "      <td>4</td>\n",
       "      <td>2</td>\n",
       "      <td>62.2</td>\n",
       "      <td>57.0</td>\n",
       "      <td>6.42</td>\n",
       "      <td>6.48</td>\n",
       "      <td>4.01</td>\n",
       "    </tr>\n",
       "  </tbody>\n",
       "</table>\n",
       "<p>17003 rows × 9 columns</p>\n",
       "</div>"
      ],
      "text/plain": [
       "       carat  cut  color  clarity  depth  table     x     y     z\n",
       "48532   0.51    2      0        5   61.1   56.0  5.16  5.20  3.17\n",
       "34980   0.34    2      2        5   62.1   56.0  4.47  4.45  2.77\n",
       "35268   0.30    4      3        1   62.8   57.0  4.28  4.32  2.70\n",
       "12632   1.00    3      2        2   60.3   58.0  6.47  6.43  3.89\n",
       "50567   0.77    4      2        3   61.1   59.0  5.85  5.95  3.59\n",
       "...      ...  ...    ...      ...    ...    ...   ...   ...   ...\n",
       "35871   0.30    2      1        6   61.1   56.0  4.36  4.38  2.67\n",
       "20896   1.23    2      3        4   61.8   58.0  6.85  6.90  4.25\n",
       "37900   0.41    2      0        5   61.7   56.0  4.78  4.81  2.96\n",
       "39930   0.35    4      5        5   61.7   57.0  4.52  4.56  2.80\n",
       "10469   1.04    4      4        2   62.2   57.0  6.42  6.48  4.01\n",
       "\n",
       "[17003 rows x 9 columns]"
      ]
     },
     "execution_count": 54,
     "metadata": {},
     "output_type": "execute_result"
    }
   ],
   "source": [
    "X_train"
   ]
  },
  {
   "cell_type": "code",
   "execution_count": 55,
   "id": "bd378df4",
   "metadata": {},
   "outputs": [
    {
     "data": {
      "text/plain": [
       "48532    1986\n",
       "34980     880\n",
       "35268     895\n",
       "12632    5292\n",
       "50567    2278\n",
       "         ... \n",
       "35871     918\n",
       "20896    9116\n",
       "37900    1007\n",
       "39930     491\n",
       "10469    4791\n",
       "Name: price, Length: 17003, dtype: int64"
      ]
     },
     "execution_count": 55,
     "metadata": {},
     "output_type": "execute_result"
    }
   ],
   "source": [
    " y_train"
   ]
  },
  {
   "cell_type": "code",
   "execution_count": 56,
   "id": "75907b74",
   "metadata": {},
   "outputs": [
    {
     "data": {
      "text/plain": [
       "((7287, 9), (7287,))"
      ]
     },
     "execution_count": 56,
     "metadata": {},
     "output_type": "execute_result"
    }
   ],
   "source": [
    "X_test.shape,y_test.shape"
   ]
  },
  {
   "cell_type": "markdown",
   "id": "3aa2095c",
   "metadata": {},
   "source": [
    "# Feature Scaling"
   ]
  },
  {
   "cell_type": "code",
   "execution_count": 57,
   "id": "7b199bf8",
   "metadata": {},
   "outputs": [
    {
     "data": {
      "text/plain": [
       "array([[-0.49428355, -0.84763778, -1.49995079, ..., -0.34749603,\n",
       "        -0.31369483, -0.37323135],\n",
       "       [-0.98141811, -0.84763778, -0.30713178, ..., -1.07713581,\n",
       "        -1.11033384, -1.0563592 ],\n",
       "       [-1.096038  ,  1.68240438,  0.28927773, ..., -1.27805111,\n",
       "        -1.24841794, -1.17590657],\n",
       "       ...,\n",
       "       [-0.78083329, -0.84763778, -1.49995079, ..., -0.74932663,\n",
       "        -0.72794712, -0.73187347],\n",
       "       [-0.95276313,  1.68240438,  1.48209674, ..., -1.02426336,\n",
       "        -0.99349345, -1.00512461],\n",
       "       [ 1.02443006,  1.68240438,  0.88568723, ...,  0.98488966,\n",
       "         1.04590243,  1.06133712]])"
      ]
     },
     "execution_count": 57,
     "metadata": {},
     "output_type": "execute_result"
    }
   ],
   "source": [
    "from sklearn.preprocessing import StandardScaler\n",
    "sc=StandardScaler()\n",
    "sc.fit(X_train)\n",
    "X_train = sc.transform(X_train)\n",
    "X_test = sc.transform(X_test)\n",
    "X_train"
   ]
  },
  {
   "cell_type": "markdown",
   "id": "c953f2b1",
   "metadata": {},
   "source": [
    "# Creating Linear Regression Model"
   ]
  },
  {
   "cell_type": "code",
   "execution_count": 58,
   "id": "8ce3257f",
   "metadata": {},
   "outputs": [],
   "source": [
    "from sklearn.linear_model import LinearRegression\n",
    "from sklearn.metrics import mean_squared_error,r2_score,mean_absolute_error\n",
    "from math import sqrt\n",
    "import numpy as np\n",
    "from sklearn import metrics"
   ]
  },
  {
   "cell_type": "code",
   "execution_count": 59,
   "id": "eb5cea38",
   "metadata": {},
   "outputs": [],
   "source": [
    "model = LinearRegression()"
   ]
  },
  {
   "cell_type": "code",
   "execution_count": 60,
   "id": "9e513ad4",
   "metadata": {},
   "outputs": [
    {
     "data": {
      "text/html": [
       "<style>#sk-container-id-2 {color: black;background-color: white;}#sk-container-id-2 pre{padding: 0;}#sk-container-id-2 div.sk-toggleable {background-color: white;}#sk-container-id-2 label.sk-toggleable__label {cursor: pointer;display: block;width: 100%;margin-bottom: 0;padding: 0.3em;box-sizing: border-box;text-align: center;}#sk-container-id-2 label.sk-toggleable__label-arrow:before {content: \"▸\";float: left;margin-right: 0.25em;color: #696969;}#sk-container-id-2 label.sk-toggleable__label-arrow:hover:before {color: black;}#sk-container-id-2 div.sk-estimator:hover label.sk-toggleable__label-arrow:before {color: black;}#sk-container-id-2 div.sk-toggleable__content {max-height: 0;max-width: 0;overflow: hidden;text-align: left;background-color: #f0f8ff;}#sk-container-id-2 div.sk-toggleable__content pre {margin: 0.2em;color: black;border-radius: 0.25em;background-color: #f0f8ff;}#sk-container-id-2 input.sk-toggleable__control:checked~div.sk-toggleable__content {max-height: 200px;max-width: 100%;overflow: auto;}#sk-container-id-2 input.sk-toggleable__control:checked~label.sk-toggleable__label-arrow:before {content: \"▾\";}#sk-container-id-2 div.sk-estimator input.sk-toggleable__control:checked~label.sk-toggleable__label {background-color: #d4ebff;}#sk-container-id-2 div.sk-label input.sk-toggleable__control:checked~label.sk-toggleable__label {background-color: #d4ebff;}#sk-container-id-2 input.sk-hidden--visually {border: 0;clip: rect(1px 1px 1px 1px);clip: rect(1px, 1px, 1px, 1px);height: 1px;margin: -1px;overflow: hidden;padding: 0;position: absolute;width: 1px;}#sk-container-id-2 div.sk-estimator {font-family: monospace;background-color: #f0f8ff;border: 1px dotted black;border-radius: 0.25em;box-sizing: border-box;margin-bottom: 0.5em;}#sk-container-id-2 div.sk-estimator:hover {background-color: #d4ebff;}#sk-container-id-2 div.sk-parallel-item::after {content: \"\";width: 100%;border-bottom: 1px solid gray;flex-grow: 1;}#sk-container-id-2 div.sk-label:hover label.sk-toggleable__label {background-color: #d4ebff;}#sk-container-id-2 div.sk-serial::before {content: \"\";position: absolute;border-left: 1px solid gray;box-sizing: border-box;top: 0;bottom: 0;left: 50%;z-index: 0;}#sk-container-id-2 div.sk-serial {display: flex;flex-direction: column;align-items: center;background-color: white;padding-right: 0.2em;padding-left: 0.2em;position: relative;}#sk-container-id-2 div.sk-item {position: relative;z-index: 1;}#sk-container-id-2 div.sk-parallel {display: flex;align-items: stretch;justify-content: center;background-color: white;position: relative;}#sk-container-id-2 div.sk-item::before, #sk-container-id-2 div.sk-parallel-item::before {content: \"\";position: absolute;border-left: 1px solid gray;box-sizing: border-box;top: 0;bottom: 0;left: 50%;z-index: -1;}#sk-container-id-2 div.sk-parallel-item {display: flex;flex-direction: column;z-index: 1;position: relative;background-color: white;}#sk-container-id-2 div.sk-parallel-item:first-child::after {align-self: flex-end;width: 50%;}#sk-container-id-2 div.sk-parallel-item:last-child::after {align-self: flex-start;width: 50%;}#sk-container-id-2 div.sk-parallel-item:only-child::after {width: 0;}#sk-container-id-2 div.sk-dashed-wrapped {border: 1px dashed gray;margin: 0 0.4em 0.5em 0.4em;box-sizing: border-box;padding-bottom: 0.4em;background-color: white;}#sk-container-id-2 div.sk-label label {font-family: monospace;font-weight: bold;display: inline-block;line-height: 1.2em;}#sk-container-id-2 div.sk-label-container {text-align: center;}#sk-container-id-2 div.sk-container {/* jupyter's `normalize.less` sets `[hidden] { display: none; }` but bootstrap.min.css set `[hidden] { display: none !important; }` so we also need the `!important` here to be able to override the default hidden behavior on the sphinx rendered scikit-learn.org. See: https://github.com/scikit-learn/scikit-learn/issues/21755 */display: inline-block !important;position: relative;}#sk-container-id-2 div.sk-text-repr-fallback {display: none;}</style><div id=\"sk-container-id-2\" class=\"sk-top-container\"><div class=\"sk-text-repr-fallback\"><pre>LinearRegression()</pre><b>In a Jupyter environment, please rerun this cell to show the HTML representation or trust the notebook. <br />On GitHub, the HTML representation is unable to render, please try loading this page with nbviewer.org.</b></div><div class=\"sk-container\" hidden><div class=\"sk-item\"><div class=\"sk-estimator sk-toggleable\"><input class=\"sk-toggleable__control sk-hidden--visually\" id=\"sk-estimator-id-2\" type=\"checkbox\" checked><label for=\"sk-estimator-id-2\" class=\"sk-toggleable__label sk-toggleable__label-arrow\">LinearRegression</label><div class=\"sk-toggleable__content\"><pre>LinearRegression()</pre></div></div></div></div></div>"
      ],
      "text/plain": [
       "LinearRegression()"
      ]
     },
     "execution_count": 60,
     "metadata": {},
     "output_type": "execute_result"
    }
   ],
   "source": [
    "model.fit(X_train,y_train)"
   ]
  },
  {
   "cell_type": "code",
   "execution_count": 61,
   "id": "64016de1",
   "metadata": {},
   "outputs": [
    {
     "data": {
      "text/plain": [
       "2897.0839851790865"
      ]
     },
     "execution_count": 61,
     "metadata": {},
     "output_type": "execute_result"
    }
   ],
   "source": [
    "model.intercept_"
   ]
  },
  {
   "cell_type": "code",
   "execution_count": 62,
   "id": "1facf878",
   "metadata": {},
   "outputs": [
    {
     "data": {
      "text/plain": [
       "array([ 3336.93046195,   -53.52242603,  -282.33294427,   322.49853578,\n",
       "         -18.78339773,   -31.65975822, -1376.55639797,   936.6145009 ,\n",
       "        -474.71084953])"
      ]
     },
     "execution_count": 62,
     "metadata": {},
     "output_type": "execute_result"
    }
   ],
   "source": [
    "model.coef_"
   ]
  },
  {
   "cell_type": "markdown",
   "id": "748d4147",
   "metadata": {},
   "source": [
    "# Model Prediction"
   ]
  },
  {
   "cell_type": "code",
   "execution_count": 63,
   "id": "d1f5725a",
   "metadata": {},
   "outputs": [
    {
     "data": {
      "text/plain": [
       "array([4903.34085046, 5824.40137894, 3048.6848384 , ..., 5339.29060823,\n",
       "       -161.24918367, 2415.90148096])"
      ]
     },
     "execution_count": 63,
     "metadata": {},
     "output_type": "execute_result"
    }
   ],
   "source": [
    "y_pred=model.predict(X_test)\n",
    "y_pred"
   ]
  },
  {
   "cell_type": "code",
   "execution_count": 64,
   "id": "a261b3d1",
   "metadata": {},
   "outputs": [
    {
     "data": {
      "text/plain": [
       "0.900227384613902"
      ]
     },
     "execution_count": 64,
     "metadata": {},
     "output_type": "execute_result"
    }
   ],
   "source": [
    "r2=r2_score(y_test,y_pred)\n",
    "r2"
   ]
  },
  {
   "cell_type": "markdown",
   "id": "f01fdb17",
   "metadata": {},
   "source": [
    "__*r2 measure the proportion of variation explianed by the regressor X*__"
   ]
  },
  {
   "cell_type": "markdown",
   "id": "04a329f7",
   "metadata": {},
   "source": [
    "_*Here the value of r2 is  **0.8571877791371613**  which is closed to 1 which implies that most of the variability in y explained by the regression model.*__"
   ]
  },
  {
   "cell_type": "code",
   "execution_count": 65,
   "id": "0549d212",
   "metadata": {},
   "outputs": [
    {
     "name": "stdout",
     "output_type": "stream",
     "text": [
      "MSE :  605827.9702818936\n",
      "MAE :  526.3555598808085\n",
      "RMSE :  778.3495167865742\n"
     ]
    }
   ],
   "source": [
    "print(\"MSE : \",(mean_squared_error(y_test,y_pred)))\n",
    "print(\"MAE : \",mean_absolute_error(y_test, y_pred))\n",
    "print(\"RMSE : \",np.sqrt(metrics.mean_squared_error(y_test, y_pred)))"
   ]
  },
  {
   "cell_type": "code",
   "execution_count": 66,
   "id": "1da772d9",
   "metadata": {},
   "outputs": [
    {
     "data": {
      "text/html": [
       "<div>\n",
       "<style scoped>\n",
       "    .dataframe tbody tr th:only-of-type {\n",
       "        vertical-align: middle;\n",
       "    }\n",
       "\n",
       "    .dataframe tbody tr th {\n",
       "        vertical-align: top;\n",
       "    }\n",
       "\n",
       "    .dataframe thead th {\n",
       "        text-align: right;\n",
       "    }\n",
       "</style>\n",
       "<table border=\"1\" class=\"dataframe\">\n",
       "  <thead>\n",
       "    <tr style=\"text-align: right;\">\n",
       "      <th></th>\n",
       "      <th>0</th>\n",
       "    </tr>\n",
       "    <tr>\n",
       "      <th>price</th>\n",
       "      <th></th>\n",
       "    </tr>\n",
       "  </thead>\n",
       "  <tbody>\n",
       "    <tr>\n",
       "      <th>4452</th>\n",
       "      <td>4903.340850</td>\n",
       "    </tr>\n",
       "    <tr>\n",
       "      <th>5586</th>\n",
       "      <td>5824.401379</td>\n",
       "    </tr>\n",
       "    <tr>\n",
       "      <th>2644</th>\n",
       "      <td>3048.684838</td>\n",
       "    </tr>\n",
       "    <tr>\n",
       "      <th>810</th>\n",
       "      <td>975.979581</td>\n",
       "    </tr>\n",
       "    <tr>\n",
       "      <th>4751</th>\n",
       "      <td>5168.174791</td>\n",
       "    </tr>\n",
       "    <tr>\n",
       "      <th>...</th>\n",
       "      <td>...</td>\n",
       "    </tr>\n",
       "    <tr>\n",
       "      <th>810</th>\n",
       "      <td>594.681911</td>\n",
       "    </tr>\n",
       "    <tr>\n",
       "      <th>3176</th>\n",
       "      <td>3368.685188</td>\n",
       "    </tr>\n",
       "    <tr>\n",
       "      <th>6083</th>\n",
       "      <td>5339.290608</td>\n",
       "    </tr>\n",
       "    <tr>\n",
       "      <th>450</th>\n",
       "      <td>-161.249184</td>\n",
       "    </tr>\n",
       "    <tr>\n",
       "      <th>1892</th>\n",
       "      <td>2415.901481</td>\n",
       "    </tr>\n",
       "  </tbody>\n",
       "</table>\n",
       "<p>7287 rows × 1 columns</p>\n",
       "</div>"
      ],
      "text/plain": [
       "                 0\n",
       "price             \n",
       "4452   4903.340850\n",
       "5586   5824.401379\n",
       "2644   3048.684838\n",
       "810     975.979581\n",
       "4751   5168.174791\n",
       "...            ...\n",
       "810     594.681911\n",
       "3176   3368.685188\n",
       "6083   5339.290608\n",
       "450    -161.249184\n",
       "1892   2415.901481\n",
       "\n",
       "[7287 rows x 1 columns]"
      ]
     },
     "execution_count": 66,
     "metadata": {},
     "output_type": "execute_result"
    }
   ],
   "source": [
    "df=pd.DataFrame(y_pred,y_test)\n",
    "df"
   ]
  },
  {
   "cell_type": "code",
   "execution_count": 67,
   "id": "cfa2ad8a",
   "metadata": {},
   "outputs": [
    {
     "data": {
      "text/plain": [
       "array([-2723.87300133])"
      ]
     },
     "execution_count": 67,
     "metadata": {},
     "output_type": "execute_result"
    }
   ],
   "source": [
    "data =[[0.23,2,6,4,62.8,56.0,3.93,3.90,2.46]]\n",
    "model.predict(data)"
   ]
  },
  {
   "cell_type": "code",
   "execution_count": null,
   "id": "7c8921ba",
   "metadata": {},
   "outputs": [],
   "source": [
    "0.29\tPremium\tI\tVS2\t62.4\t58.0\t4.20\t4.23\t2.63\t334"
   ]
  },
  {
   "cell_type": "code",
   "execution_count": null,
   "id": "e44131af",
   "metadata": {},
   "outputs": [],
   "source": [
    "0.23\t2\t6\t4\t62.8\t56.0\t3.93\t3.90\t2.46\t340"
   ]
  },
  {
   "cell_type": "markdown",
   "id": "685426cd",
   "metadata": {},
   "source": [
    "# __*Thank You*__"
   ]
  }
 ],
 "metadata": {
  "kernelspec": {
   "display_name": "Python 3",
   "language": "python",
   "name": "python3"
  },
  "language_info": {
   "codemirror_mode": {
    "name": "ipython",
    "version": 3
   },
   "file_extension": ".py",
   "mimetype": "text/x-python",
   "name": "python",
   "nbconvert_exporter": "python",
   "pygments_lexer": "ipython3",
   "version": "3.8.8"
  }
 },
 "nbformat": 4,
 "nbformat_minor": 5
}
